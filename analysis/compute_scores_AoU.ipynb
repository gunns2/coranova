{
 "cells": [
  {
   "cell_type": "code",
   "execution_count": null,
   "metadata": {},
   "outputs": [],
   "source": [
    "!mkdir height_corr"
   ]
  },
  {
   "cell_type": "code",
   "execution_count": null,
   "metadata": {},
   "outputs": [],
   "source": [
    "%%bash\n",
    "for file in geno/*.pgen\n",
    "do\n",
    "  f=${file%.*}\n",
    "  n=${f##*.}\n",
    "  \n",
    "  plink2 \\\n",
    "  --pfile $f \\\n",
    "  --score height_pgs.txt 2 5 cols=+scoresums ignore-dup-ids\\\n",
    "   --score-col-nums 7-12  \\\n",
    "  --out height_corr/SBayesR_chunk$n\n",
    "done"
   ]
  },
  {
   "cell_type": "code",
   "execution_count": null,
   "metadata": {},
   "outputs": [],
   "source": [
    "!mkdir ldl_corr"
   ]
  },
  {
   "cell_type": "code",
   "execution_count": null,
   "metadata": {},
   "outputs": [],
   "source": [
    "%%bash\n",
    "for file in geno/*.pgen\n",
    "do\n",
    "  f=${file%.*}\n",
    "  n=${f##*.}\n",
    "  \n",
    "  plink2 \\\n",
    "  --pfile $f \\\n",
    "  --score LDL_prscs_scores 1 4 cols=+scoresums ignore-dup-ids\\\n",
    "   --score-col-nums 6-11  \\\n",
    "  --out ldl_corr/PRScs_chunk$n\n",
    "done"
   ]
  },
  {
   "cell_type": "code",
   "execution_count": null,
   "metadata": {},
   "outputs": [],
   "source": [
    "%%bash\n",
    "for file in geno/*.pgen\n",
    "do\n",
    "  f=${file%.*}\n",
    "  n=${f##*.}\n",
    "  \n",
    "  plink2 \\\n",
    "  --pfile $f \\\n",
    "  --score LDL_pt_scores 1 4 cols=+scoresums ignore-dup-ids\\\n",
    "   --score-col-nums 6-11  \\\n",
    "  --out ldl_corr/PT_chunk$n\n",
    "done"
   ]
  }
 ],
 "metadata": {
  "language_info": {
   "name": "python"
  }
 },
 "nbformat": 4,
 "nbformat_minor": 2
}
