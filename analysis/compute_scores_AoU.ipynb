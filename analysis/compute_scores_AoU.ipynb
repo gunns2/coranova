{
 "cells": [
  {
   "cell_type": "markdown",
   "metadata": {},
   "source": [
    "## Download PGS"
   ]
  },
  {
   "cell_type": "markdown",
   "metadata": {},
   "source": [
    "PGS can be downloaded from PGS catalog under accesssion numbers:\n",
    "PGP000382 - Yengo et al height PGS (https://www.pgscatalog.org/publication/PGP000382/)\n",
    "PGP000230 - Graham et al LDL PGS(https://www.pgscatalog.org/publication/PGP000230/) "
   ]
  },
  {
   "cell_type": "markdown",
   "metadata": {},
   "source": [
    "## Compute PGS in AoU Pop"
   ]
  },
  {
   "cell_type": "code",
   "execution_count": null,
   "metadata": {},
   "outputs": [],
   "source": [
    "!mkdir height_corr"
   ]
  },
  {
   "cell_type": "code",
   "execution_count": null,
   "metadata": {},
   "outputs": [],
   "source": [
    "%%bash\n",
    "for file in geno/*.pgen\n",
    "do\n",
    "  f=${file%.*}\n",
    "  n=${f##*.}\n",
    "  \n",
    "  plink2 \\\n",
    "  --pfile $f \\\n",
    "  --score height_pgs.txt 2 5 cols=+scoresums ignore-dup-ids\\\n",
    "   --score-col-nums 7-12  \\\n",
    "  --out height_corr/SBayesR_chunk$n\n",
    "done"
   ]
  },
  {
   "cell_type": "code",
   "execution_count": null,
   "metadata": {},
   "outputs": [],
   "source": [
    "!mkdir ldl_corr"
   ]
  },
  {
   "cell_type": "code",
   "execution_count": null,
   "metadata": {},
   "outputs": [],
   "source": [
    "%%bash\n",
    "for file in geno/*.pgen\n",
    "do\n",
    "  f=${file%.*}\n",
    "  n=${f##*.}\n",
    "  \n",
    "  plink2 \\\n",
    "  --pfile $f \\\n",
    "  --score LDL_prscs_scores 1 4 cols=+scoresums ignore-dup-ids\\\n",
    "   --score-col-nums 6-11  \\\n",
    "  --out ldl_corr/PRScs_chunk$n\n",
    "done"
   ]
  },
  {
   "cell_type": "code",
   "execution_count": null,
   "metadata": {},
   "outputs": [],
   "source": [
    "%%bash\n",
    "for file in geno/*.pgen\n",
    "do\n",
    "  f=${file%.*}\n",
    "  n=${f##*.}\n",
    "  \n",
    "  plink2 \\\n",
    "  --pfile $f \\\n",
    "  --score LDL_pt_scores 1 4 cols=+scoresums ignore-dup-ids\\\n",
    "   --score-col-nums 6-11  \\\n",
    "  --out ldl_corr/PT_chunk$n\n",
    "done"
   ]
  }
 ],
 "metadata": {
  "kernelspec": {
   "display_name": "Python 3",
   "language": "python",
   "name": "python3"
  },
  "language_info": {
   "codemirror_mode": {
    "name": "ipython",
    "version": 3
   },
   "file_extension": ".py",
   "mimetype": "text/x-python",
   "name": "python",
   "nbconvert_exporter": "python",
   "pygments_lexer": "ipython3",
   "version": "3.7.10"
  }
 },
 "nbformat": 4,
 "nbformat_minor": 2
}
